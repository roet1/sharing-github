{
 "cells": [
  {
   "cell_type": "markdown",
   "metadata": {},
   "source": [
    "# Analyzing internet survey\n",
    "\n",
    "https://forms.gle/MC62PiECwBKWo7Np6"
   ]
  },
  {
   "cell_type": "code",
   "execution_count": 349,
   "metadata": {},
   "outputs": [],
   "source": [
    "import seaborn as sns\n",
    "import pandas as pd\n",
    "import matplotlib.pyplot as plt"
   ]
  },
  {
   "cell_type": "code",
   "execution_count": 350,
   "metadata": {},
   "outputs": [
    {
     "data": {
      "text/html": [
       "<div>\n",
       "<style scoped>\n",
       "    .dataframe tbody tr th:only-of-type {\n",
       "        vertical-align: middle;\n",
       "    }\n",
       "\n",
       "    .dataframe tbody tr th {\n",
       "        vertical-align: top;\n",
       "    }\n",
       "\n",
       "    .dataframe thead th {\n",
       "        text-align: right;\n",
       "    }\n",
       "</style>\n",
       "<table border=\"1\" class=\"dataframe\">\n",
       "  <thead>\n",
       "    <tr style=\"text-align: right;\">\n",
       "      <th></th>\n",
       "      <th>Tijdstempel</th>\n",
       "      <th>Do you own an iOS (Apple) iPhone? Bent u in het bezit van een iOS (Apple) iPhone?</th>\n",
       "      <th>Are you familiar with this type of question? Bent u bekend met dit soort vragen?</th>\n",
       "      <th>How many times do you encounter access questions? Hoe vaak komt u dit soort vragen tegen?</th>\n",
       "      <th>What do you think about the questioning? Wat vindt u van de vraagstelling?</th>\n",
       "      <th>Can you tell from the question which personal data is going to be collected and what it is used for? Kan u uit de vraag opmaken welke gegevens er worden verzameld en waar deze voor gebruikt worden?</th>\n",
       "      <th>Are you rejecting the access sometimes? Weigert u soms toegang tot uw gegevens?</th>\n",
       "      <th>Why are you rejecting the access? Waarom weigert u de toegang?</th>\n",
       "      <th>Does the questioning provide enough information to answer the question? Wordt u voldoende geïnformeerd om de vraag te kunnen beantwoorden?</th>\n",
       "      <th>Are you aware of the consequences your choice has? Bent u zich bewust van de gevolgen die u antwoord heeft?</th>\n",
       "      <th>Which feeling(s) does the question evoke? Welk gevoel roept de vraag bij u op?</th>\n",
       "      <th>The appearance of the question supports my decision. Het uiterlijk van de vraag helpt mij bij het maken van mijn keuzen.</th>\n",
       "      <th>What would you change on the appearance of the question? (think about: icons, color, buttons, etc.) Wat zou u aan het uiterlijk van de vraag veranderen? (denk aan: icoon, kleur, knop, etc.)</th>\n",
       "      <th>What is your age?</th>\n",
       "      <th>What is your gender?</th>\n",
       "      <th>Are you interested? Please leave your email address in the \"Anders\" option below. Wilt u mee doen aan het volgende onderzoek? Laat aub uw email adres achter in de \"Anders\" optie.</th>\n",
       "    </tr>\n",
       "  </thead>\n",
       "  <tbody>\n",
       "    <tr>\n",
       "      <th>0</th>\n",
       "      <td>2021/01/11 3:12:15 p.m. CET</td>\n",
       "      <td>Yes</td>\n",
       "      <td>Yes</td>\n",
       "      <td>Every time I open an app / Elke keer als ik ee...</td>\n",
       "      <td>Clear / duidelijk</td>\n",
       "      <td>No</td>\n",
       "      <td>Yes</td>\n",
       "      <td>Vind het niet nodig dat ze mijn informatie geb...</td>\n",
       "      <td>No</td>\n",
       "      <td>No</td>\n",
       "      <td>Annoying / hinderlijk</td>\n",
       "      <td>3</td>\n",
       "      <td>Vind ik moeilijk</td>\n",
       "      <td>20 - 25</td>\n",
       "      <td>Male</td>\n",
       "      <td>Chiem-stam@hotmail.com</td>\n",
       "    </tr>\n",
       "    <tr>\n",
       "      <th>1</th>\n",
       "      <td>2021/01/11 3:25:52 p.m. CET</td>\n",
       "      <td>Yes</td>\n",
       "      <td>Yes</td>\n",
       "      <td>Every time I download an app / Elke keer als i...</td>\n",
       "      <td>Unclear/ onduidelijk</td>\n",
       "      <td>No</td>\n",
       "      <td>Yes</td>\n",
       "      <td>Privé gegevens en doel van de app</td>\n",
       "      <td>No</td>\n",
       "      <td>No</td>\n",
       "      <td>Irritation / Irritatie;Doubt / Twijfel</td>\n",
       "      <td>3</td>\n",
       "      <td>Meer highlights</td>\n",
       "      <td>20 - 25</td>\n",
       "      <td>Female</td>\n",
       "      <td>I'm not interested</td>\n",
       "    </tr>\n",
       "    <tr>\n",
       "      <th>2</th>\n",
       "      <td>2021/01/11 3:27:17 p.m. CET</td>\n",
       "      <td>Yes</td>\n",
       "      <td>Yes</td>\n",
       "      <td>Every time I download an app / Elke keer als i...</td>\n",
       "      <td>Clear / duidelijk</td>\n",
       "      <td>Yes</td>\n",
       "      <td>Yes</td>\n",
       "      <td>Omdat ik die toegang niet wil verlenen</td>\n",
       "      <td>Yes</td>\n",
       "      <td>Yes</td>\n",
       "      <td>Neutral</td>\n",
       "      <td>3</td>\n",
       "      <td>Weiger in rood //oké in groen</td>\n",
       "      <td>55 - 60</td>\n",
       "      <td>Female</td>\n",
       "      <td>I'm not interested</td>\n",
       "    </tr>\n",
       "    <tr>\n",
       "      <th>3</th>\n",
       "      <td>2021/01/11 6:38:41 p.m. CET</td>\n",
       "      <td>Yes</td>\n",
       "      <td>Yes</td>\n",
       "      <td>Af en toe</td>\n",
       "      <td>Clear / duidelijk</td>\n",
       "      <td>No</td>\n",
       "      <td>Yes</td>\n",
       "      <td>Vertrouwenskwestie</td>\n",
       "      <td>De uitleg vind ik te beknopt.</td>\n",
       "      <td>Yes</td>\n",
       "      <td>Doubt / Twijfel</td>\n",
       "      <td>4</td>\n",
       "      <td>Kleur en button</td>\n",
       "      <td>50 - 55</td>\n",
       "      <td>Female</td>\n",
       "      <td>I'm not interested</td>\n",
       "    </tr>\n",
       "    <tr>\n",
       "      <th>4</th>\n",
       "      <td>2021/01/11 7:16:35 p.m. CET</td>\n",
       "      <td>Yes</td>\n",
       "      <td>Yes</td>\n",
       "      <td>Every time I download an app / Elke keer als i...</td>\n",
       "      <td>Clear / duidelijk</td>\n",
       "      <td>No</td>\n",
       "      <td>Yes</td>\n",
       "      <td>It was a accident that I say \"yes\"</td>\n",
       "      <td>No</td>\n",
       "      <td>Yes</td>\n",
       "      <td>Irritation / Irritatie;Annoying / hinderlijk</td>\n",
       "      <td>2</td>\n",
       "      <td>dont know</td>\n",
       "      <td>20 - 25</td>\n",
       "      <td>Female</td>\n",
       "      <td>NaN</td>\n",
       "    </tr>\n",
       "  </tbody>\n",
       "</table>\n",
       "</div>"
      ],
      "text/plain": [
       "                   Tijdstempel  \\\n",
       "0  2021/01/11 3:12:15 p.m. CET   \n",
       "1  2021/01/11 3:25:52 p.m. CET   \n",
       "2  2021/01/11 3:27:17 p.m. CET   \n",
       "3  2021/01/11 6:38:41 p.m. CET   \n",
       "4  2021/01/11 7:16:35 p.m. CET   \n",
       "\n",
       "  Do you own an iOS (Apple) iPhone? Bent u in het bezit van een iOS (Apple) iPhone?  \\\n",
       "0                                                Yes                                  \n",
       "1                                                Yes                                  \n",
       "2                                                Yes                                  \n",
       "3                                                Yes                                  \n",
       "4                                                Yes                                  \n",
       "\n",
       "  Are you familiar with this type of question? Bent u bekend met dit soort vragen?  \\\n",
       "0                                                Yes                                 \n",
       "1                                                Yes                                 \n",
       "2                                                Yes                                 \n",
       "3                                                Yes                                 \n",
       "4                                                Yes                                 \n",
       "\n",
       "  How many times do you encounter access questions? Hoe vaak komt u dit soort vragen tegen?  \\\n",
       "0  Every time I open an app / Elke keer als ik ee...                                          \n",
       "1  Every time I download an app / Elke keer als i...                                          \n",
       "2  Every time I download an app / Elke keer als i...                                          \n",
       "3                                          Af en toe                                          \n",
       "4  Every time I download an app / Elke keer als i...                                          \n",
       "\n",
       "  What do you think about the questioning? Wat vindt u van de vraagstelling?  \\\n",
       "0                                  Clear / duidelijk                           \n",
       "1                               Unclear/ onduidelijk                           \n",
       "2                                  Clear / duidelijk                           \n",
       "3                                  Clear / duidelijk                           \n",
       "4                                  Clear / duidelijk                           \n",
       "\n",
       "  Can you tell from the question which personal data is going to be collected and what it is used for? Kan u uit de vraag opmaken welke gegevens er worden verzameld en waar deze voor gebruikt worden?  \\\n",
       "0                                                 No                                                                                                                                                      \n",
       "1                                                 No                                                                                                                                                      \n",
       "2                                                Yes                                                                                                                                                      \n",
       "3                                                 No                                                                                                                                                      \n",
       "4                                                 No                                                                                                                                                      \n",
       "\n",
       "  Are you rejecting the access sometimes? Weigert u soms toegang tot uw gegevens?  \\\n",
       "0                                                Yes                                \n",
       "1                                                Yes                                \n",
       "2                                                Yes                                \n",
       "3                                                Yes                                \n",
       "4                                                Yes                                \n",
       "\n",
       "  Why are you rejecting the access? Waarom weigert u de toegang?  \\\n",
       "0  Vind het niet nodig dat ze mijn informatie geb...               \n",
       "1                 Privé gegevens en doel van de app                \n",
       "2            Omdat ik die toegang niet wil verlenen                \n",
       "3                                 Vertrouwenskwestie               \n",
       "4                 It was a accident that I say \"yes\"               \n",
       "\n",
       "  Does the questioning provide enough information to answer the question? Wordt u voldoende geïnformeerd om de vraag te kunnen beantwoorden?  \\\n",
       "0                                                 No                                                                                           \n",
       "1                                                 No                                                                                           \n",
       "2                                                Yes                                                                                           \n",
       "3                     De uitleg vind ik te beknopt.                                                                                            \n",
       "4                                                 No                                                                                           \n",
       "\n",
       "  Are you aware of the consequences your choice has? Bent u zich bewust van de gevolgen die u antwoord heeft?   \\\n",
       "0                                                 No                                                             \n",
       "1                                                 No                                                             \n",
       "2                                                Yes                                                             \n",
       "3                                                Yes                                                             \n",
       "4                                                Yes                                                             \n",
       "\n",
       "  Which feeling(s) does the question evoke? Welk gevoel roept de vraag bij u op?   \\\n",
       "0                              Annoying / hinderlijk                                \n",
       "1             Irritation / Irritatie;Doubt / Twijfel                                \n",
       "2                                            Neutral                                \n",
       "3                                    Doubt / Twijfel                                \n",
       "4       Irritation / Irritatie;Annoying / hinderlijk                                \n",
       "\n",
       "   The appearance of the question supports my decision. Het uiterlijk van de vraag helpt mij bij het maken van mijn keuzen.  \\\n",
       "0                                                  3                                                                          \n",
       "1                                                  3                                                                          \n",
       "2                                                  3                                                                          \n",
       "3                                                  4                                                                          \n",
       "4                                                  2                                                                          \n",
       "\n",
       "  What would you change on the appearance of the question? (think about: icons, color, buttons, etc.) Wat zou u aan het uiterlijk van de vraag veranderen? (denk aan: icoon, kleur, knop, etc.)  \\\n",
       "0                                  Vind ik moeilijk                                                                                                                                               \n",
       "1                                   Meer highlights                                                                                                                                               \n",
       "2                      Weiger in rood //oké in groen                                                                                                                                              \n",
       "3                                    Kleur en button                                                                                                                                              \n",
       "4                                          dont know                                                                                                                                              \n",
       "\n",
       "  What is your age? What is your gender?  \\\n",
       "0           20 - 25                 Male   \n",
       "1           20 - 25               Female   \n",
       "2           55 - 60               Female   \n",
       "3           50 - 55               Female   \n",
       "4           20 - 25               Female   \n",
       "\n",
       "  Are you interested? Please leave your email address in the \"Anders\" option below. Wilt u mee doen aan het volgende onderzoek? Laat aub uw email adres achter in de \"Anders\" optie.  \n",
       "0                             Chiem-stam@hotmail.com                                                                                                                                  \n",
       "1                                 I'm not interested                                                                                                                                  \n",
       "2                                 I'm not interested                                                                                                                                  \n",
       "3                                 I'm not interested                                                                                                                                  \n",
       "4                                                NaN                                                                                                                                  "
      ]
     },
     "execution_count": 350,
     "metadata": {},
     "output_type": "execute_result"
    }
   ],
   "source": [
    "df = pd.read_csv(' toestemming vragen voor data toegang.csv')\n",
    "df.head()"
   ]
  },
  {
   "cell_type": "code",
   "execution_count": 351,
   "metadata": {},
   "outputs": [],
   "source": [
    "df1 = df.replace({'De uitleg vind ik te beknopt. ': 0})"
   ]
  },
  {
   "cell_type": "code",
   "execution_count": 352,
   "metadata": {},
   "outputs": [
    {
     "data": {
      "text/plain": [
       "Female    19\n",
       "Male       7\n",
       "Name: What is your gender?, dtype: int64"
      ]
     },
     "execution_count": 352,
     "metadata": {},
     "output_type": "execute_result"
    }
   ],
   "source": [
    "df1['What is your gender?'].value_counts()"
   ]
  },
  {
   "cell_type": "code",
   "execution_count": 353,
   "metadata": {},
   "outputs": [
    {
     "data": {
      "text/html": [
       "<div>\n",
       "<style scoped>\n",
       "    .dataframe tbody tr th:only-of-type {\n",
       "        vertical-align: middle;\n",
       "    }\n",
       "\n",
       "    .dataframe tbody tr th {\n",
       "        vertical-align: top;\n",
       "    }\n",
       "\n",
       "    .dataframe thead th {\n",
       "        text-align: right;\n",
       "    }\n",
       "</style>\n",
       "<table border=\"1\" class=\"dataframe\">\n",
       "  <thead>\n",
       "    <tr style=\"text-align: right;\">\n",
       "      <th></th>\n",
       "      <th>Tijdstempel</th>\n",
       "      <th>Do you own an iOS (Apple) iPhone? Bent u in het bezit van een iOS (Apple) iPhone?</th>\n",
       "      <th>Are you familiar with this type of question? Bent u bekend met dit soort vragen?</th>\n",
       "      <th>How many times do you encounter access questions? Hoe vaak komt u dit soort vragen tegen?</th>\n",
       "      <th>Can you tell from the question which personal data is going to be collected and what it is used for? Kan u uit de vraag opmaken welke gegevens er worden verzameld en waar deze voor gebruikt worden?</th>\n",
       "      <th>Are you rejecting the access sometimes? Weigert u soms toegang tot uw gegevens?</th>\n",
       "      <th>Why are you rejecting the access? Waarom weigert u de toegang?</th>\n",
       "      <th>Does the questioning provide enough information to answer the question? Wordt u voldoende geïnformeerd om de vraag te kunnen beantwoorden?</th>\n",
       "      <th>Are you aware of the consequences your choice has? Bent u zich bewust van de gevolgen die u antwoord heeft?</th>\n",
       "      <th>Which feeling(s) does the question evoke? Welk gevoel roept de vraag bij u op?</th>\n",
       "      <th>The appearance of the question supports my decision. Het uiterlijk van de vraag helpt mij bij het maken van mijn keuzen.</th>\n",
       "      <th>What would you change on the appearance of the question? (think about: icons, color, buttons, etc.) Wat zou u aan het uiterlijk van de vraag veranderen? (denk aan: icoon, kleur, knop, etc.)</th>\n",
       "      <th>What is your age?</th>\n",
       "      <th>What is your gender?</th>\n",
       "      <th>Are you interested? Please leave your email address in the \"Anders\" option below. Wilt u mee doen aan het volgende onderzoek? Laat aub uw email adres achter in de \"Anders\" optie.</th>\n",
       "      <th>What do you think about the questioning? Wat vindt u van de vraagstelling?_Clear / duidelijk</th>\n",
       "      <th>What do you think about the questioning? Wat vindt u van de vraagstelling?_Unclear/ onduidelijk</th>\n",
       "    </tr>\n",
       "  </thead>\n",
       "  <tbody>\n",
       "    <tr>\n",
       "      <th>0</th>\n",
       "      <td>2021/01/11 3:12:15 p.m. CET</td>\n",
       "      <td>Yes</td>\n",
       "      <td>Yes</td>\n",
       "      <td>Every time I open an app / Elke keer als ik ee...</td>\n",
       "      <td>No</td>\n",
       "      <td>Yes</td>\n",
       "      <td>Vind het niet nodig dat ze mijn informatie geb...</td>\n",
       "      <td>No</td>\n",
       "      <td>No</td>\n",
       "      <td>Annoying / hinderlijk</td>\n",
       "      <td>3</td>\n",
       "      <td>Vind ik moeilijk</td>\n",
       "      <td>20 - 25</td>\n",
       "      <td>Male</td>\n",
       "      <td>Chiem-stam@hotmail.com</td>\n",
       "      <td>1</td>\n",
       "      <td>0</td>\n",
       "    </tr>\n",
       "    <tr>\n",
       "      <th>1</th>\n",
       "      <td>2021/01/11 3:25:52 p.m. CET</td>\n",
       "      <td>Yes</td>\n",
       "      <td>Yes</td>\n",
       "      <td>Every time I download an app / Elke keer als i...</td>\n",
       "      <td>No</td>\n",
       "      <td>Yes</td>\n",
       "      <td>Privé gegevens en doel van de app</td>\n",
       "      <td>No</td>\n",
       "      <td>No</td>\n",
       "      <td>Irritation / Irritatie;Doubt / Twijfel</td>\n",
       "      <td>3</td>\n",
       "      <td>Meer highlights</td>\n",
       "      <td>20 - 25</td>\n",
       "      <td>Female</td>\n",
       "      <td>I'm not interested</td>\n",
       "      <td>0</td>\n",
       "      <td>1</td>\n",
       "    </tr>\n",
       "    <tr>\n",
       "      <th>2</th>\n",
       "      <td>2021/01/11 3:27:17 p.m. CET</td>\n",
       "      <td>Yes</td>\n",
       "      <td>Yes</td>\n",
       "      <td>Every time I download an app / Elke keer als i...</td>\n",
       "      <td>Yes</td>\n",
       "      <td>Yes</td>\n",
       "      <td>Omdat ik die toegang niet wil verlenen</td>\n",
       "      <td>Yes</td>\n",
       "      <td>Yes</td>\n",
       "      <td>Neutral</td>\n",
       "      <td>3</td>\n",
       "      <td>Weiger in rood //oké in groen</td>\n",
       "      <td>55 - 60</td>\n",
       "      <td>Female</td>\n",
       "      <td>I'm not interested</td>\n",
       "      <td>1</td>\n",
       "      <td>0</td>\n",
       "    </tr>\n",
       "    <tr>\n",
       "      <th>3</th>\n",
       "      <td>2021/01/11 6:38:41 p.m. CET</td>\n",
       "      <td>Yes</td>\n",
       "      <td>Yes</td>\n",
       "      <td>Af en toe</td>\n",
       "      <td>No</td>\n",
       "      <td>Yes</td>\n",
       "      <td>Vertrouwenskwestie</td>\n",
       "      <td>0</td>\n",
       "      <td>Yes</td>\n",
       "      <td>Doubt / Twijfel</td>\n",
       "      <td>4</td>\n",
       "      <td>Kleur en button</td>\n",
       "      <td>50 - 55</td>\n",
       "      <td>Female</td>\n",
       "      <td>I'm not interested</td>\n",
       "      <td>1</td>\n",
       "      <td>0</td>\n",
       "    </tr>\n",
       "    <tr>\n",
       "      <th>4</th>\n",
       "      <td>2021/01/11 7:16:35 p.m. CET</td>\n",
       "      <td>Yes</td>\n",
       "      <td>Yes</td>\n",
       "      <td>Every time I download an app / Elke keer als i...</td>\n",
       "      <td>No</td>\n",
       "      <td>Yes</td>\n",
       "      <td>It was a accident that I say \"yes\"</td>\n",
       "      <td>No</td>\n",
       "      <td>Yes</td>\n",
       "      <td>Irritation / Irritatie;Annoying / hinderlijk</td>\n",
       "      <td>2</td>\n",
       "      <td>dont know</td>\n",
       "      <td>20 - 25</td>\n",
       "      <td>Female</td>\n",
       "      <td>NaN</td>\n",
       "      <td>1</td>\n",
       "      <td>0</td>\n",
       "    </tr>\n",
       "  </tbody>\n",
       "</table>\n",
       "</div>"
      ],
      "text/plain": [
       "                   Tijdstempel  \\\n",
       "0  2021/01/11 3:12:15 p.m. CET   \n",
       "1  2021/01/11 3:25:52 p.m. CET   \n",
       "2  2021/01/11 3:27:17 p.m. CET   \n",
       "3  2021/01/11 6:38:41 p.m. CET   \n",
       "4  2021/01/11 7:16:35 p.m. CET   \n",
       "\n",
       "  Do you own an iOS (Apple) iPhone? Bent u in het bezit van een iOS (Apple) iPhone?  \\\n",
       "0                                                Yes                                  \n",
       "1                                                Yes                                  \n",
       "2                                                Yes                                  \n",
       "3                                                Yes                                  \n",
       "4                                                Yes                                  \n",
       "\n",
       "  Are you familiar with this type of question? Bent u bekend met dit soort vragen?  \\\n",
       "0                                                Yes                                 \n",
       "1                                                Yes                                 \n",
       "2                                                Yes                                 \n",
       "3                                                Yes                                 \n",
       "4                                                Yes                                 \n",
       "\n",
       "  How many times do you encounter access questions? Hoe vaak komt u dit soort vragen tegen?  \\\n",
       "0  Every time I open an app / Elke keer als ik ee...                                          \n",
       "1  Every time I download an app / Elke keer als i...                                          \n",
       "2  Every time I download an app / Elke keer als i...                                          \n",
       "3                                          Af en toe                                          \n",
       "4  Every time I download an app / Elke keer als i...                                          \n",
       "\n",
       "  Can you tell from the question which personal data is going to be collected and what it is used for? Kan u uit de vraag opmaken welke gegevens er worden verzameld en waar deze voor gebruikt worden?  \\\n",
       "0                                                 No                                                                                                                                                      \n",
       "1                                                 No                                                                                                                                                      \n",
       "2                                                Yes                                                                                                                                                      \n",
       "3                                                 No                                                                                                                                                      \n",
       "4                                                 No                                                                                                                                                      \n",
       "\n",
       "  Are you rejecting the access sometimes? Weigert u soms toegang tot uw gegevens?  \\\n",
       "0                                                Yes                                \n",
       "1                                                Yes                                \n",
       "2                                                Yes                                \n",
       "3                                                Yes                                \n",
       "4                                                Yes                                \n",
       "\n",
       "  Why are you rejecting the access? Waarom weigert u de toegang?  \\\n",
       "0  Vind het niet nodig dat ze mijn informatie geb...               \n",
       "1                 Privé gegevens en doel van de app                \n",
       "2            Omdat ik die toegang niet wil verlenen                \n",
       "3                                 Vertrouwenskwestie               \n",
       "4                 It was a accident that I say \"yes\"               \n",
       "\n",
       "  Does the questioning provide enough information to answer the question? Wordt u voldoende geïnformeerd om de vraag te kunnen beantwoorden?  \\\n",
       "0                                                 No                                                                                           \n",
       "1                                                 No                                                                                           \n",
       "2                                                Yes                                                                                           \n",
       "3                                                  0                                                                                           \n",
       "4                                                 No                                                                                           \n",
       "\n",
       "  Are you aware of the consequences your choice has? Bent u zich bewust van de gevolgen die u antwoord heeft?   \\\n",
       "0                                                 No                                                             \n",
       "1                                                 No                                                             \n",
       "2                                                Yes                                                             \n",
       "3                                                Yes                                                             \n",
       "4                                                Yes                                                             \n",
       "\n",
       "  Which feeling(s) does the question evoke? Welk gevoel roept de vraag bij u op?   \\\n",
       "0                              Annoying / hinderlijk                                \n",
       "1             Irritation / Irritatie;Doubt / Twijfel                                \n",
       "2                                            Neutral                                \n",
       "3                                    Doubt / Twijfel                                \n",
       "4       Irritation / Irritatie;Annoying / hinderlijk                                \n",
       "\n",
       "   The appearance of the question supports my decision. Het uiterlijk van de vraag helpt mij bij het maken van mijn keuzen.  \\\n",
       "0                                                  3                                                                          \n",
       "1                                                  3                                                                          \n",
       "2                                                  3                                                                          \n",
       "3                                                  4                                                                          \n",
       "4                                                  2                                                                          \n",
       "\n",
       "  What would you change on the appearance of the question? (think about: icons, color, buttons, etc.) Wat zou u aan het uiterlijk van de vraag veranderen? (denk aan: icoon, kleur, knop, etc.)  \\\n",
       "0                                  Vind ik moeilijk                                                                                                                                               \n",
       "1                                   Meer highlights                                                                                                                                               \n",
       "2                      Weiger in rood //oké in groen                                                                                                                                              \n",
       "3                                    Kleur en button                                                                                                                                              \n",
       "4                                          dont know                                                                                                                                              \n",
       "\n",
       "  What is your age? What is your gender?  \\\n",
       "0           20 - 25                 Male   \n",
       "1           20 - 25               Female   \n",
       "2           55 - 60               Female   \n",
       "3           50 - 55               Female   \n",
       "4           20 - 25               Female   \n",
       "\n",
       "  Are you interested? Please leave your email address in the \"Anders\" option below. Wilt u mee doen aan het volgende onderzoek? Laat aub uw email adres achter in de \"Anders\" optie.  \\\n",
       "0                             Chiem-stam@hotmail.com                                                                                                                                   \n",
       "1                                 I'm not interested                                                                                                                                   \n",
       "2                                 I'm not interested                                                                                                                                   \n",
       "3                                 I'm not interested                                                                                                                                   \n",
       "4                                                NaN                                                                                                                                   \n",
       "\n",
       "   What do you think about the questioning? Wat vindt u van de vraagstelling?_Clear / duidelijk  \\\n",
       "0                                                  1                                              \n",
       "1                                                  0                                              \n",
       "2                                                  1                                              \n",
       "3                                                  1                                              \n",
       "4                                                  1                                              \n",
       "\n",
       "   What do you think about the questioning? Wat vindt u van de vraagstelling?_Unclear/ onduidelijk  \n",
       "0                                                  0                                                \n",
       "1                                                  1                                                \n",
       "2                                                  0                                                \n",
       "3                                                  0                                                \n",
       "4                                                  0                                                "
      ]
     },
     "execution_count": 353,
     "metadata": {},
     "output_type": "execute_result"
    }
   ],
   "source": [
    "df1 = pd.get_dummies(df1, columns=['What do you think about the questioning? Wat vindt u van de vraagstelling?'])\n",
    "df1.head()"
   ]
  },
  {
   "cell_type": "code",
   "execution_count": 354,
   "metadata": {},
   "outputs": [],
   "source": [
    "df1 = df1.replace(['Yes'],1)\n",
    "df1 = df1.replace(['No'],0)"
   ]
  },
  {
   "cell_type": "code",
   "execution_count": 355,
   "metadata": {},
   "outputs": [],
   "source": [
    "def data_literacy(df1):\n",
    "    if (df1['What do you think about the questioning? Wat vindt u van de vraagstelling?_Clear / duidelijk']== 1) and (df1['Does the questioning provide enough information to answer the question? Wordt u voldoende geïnformeerd om de vraag te kunnen beantwoorden?']== 0):\n",
    "        return 1\n",
    "    else:\n",
    "        return 0\n",
    "\n",
    "df1['question-percievement_data-literacy'] = df1.apply(data_literacy, axis=1)"
   ]
  },
  {
   "cell_type": "code",
   "execution_count": 356,
   "metadata": {},
   "outputs": [
    {
     "data": {
      "text/plain": [
       "0    19\n",
       "1     7\n",
       "Name: question-percievement_data-literacy, dtype: int64"
      ]
     },
     "execution_count": 356,
     "metadata": {},
     "output_type": "execute_result"
    }
   ],
   "source": [
    "df1['question-percievement_data-literacy'].value_counts()"
   ]
  },
  {
   "cell_type": "code",
   "execution_count": 357,
   "metadata": {},
   "outputs": [
    {
     "data": {
      "image/png": "[encoded data removed]",
      "text/plain": [
       "<Figure size 432x288 with 1 Axes>"
      ]
     },
     "metadata": {
      "needs_background": "light"
     },
     "output_type": "display_data"
    }
   ],
   "source": [
    "sns.countplot(x='question-percievement_data-literacy', data=df1)\n",
    "plt.title('Determing data literacy')\n",
    "plt.xlabel('Misperceiving permission request')\n",
    "plt.show()"
   ]
  },
  {
   "cell_type": "code",
   "execution_count": 358,
   "metadata": {},
   "outputs": [],
   "source": [
    "def question_context(df1):\n",
    "    if (df1['What do you think about the questioning? Wat vindt u van de vraagstelling?_Clear / duidelijk']== 1) and (df1['Can you tell from the question which personal data is going to be collected and what it is used for? Kan u uit de vraag opmaken welke gegevens er worden verzameld en waar deze voor gebruikt worden?']== 0):\n",
    "        return 1\n",
    "    else:\n",
    "        return 0\n",
    "\n",
    "df1['question-percievement_context'] = df1.apply(question_context, axis=1)"
   ]
  },
  {
   "cell_type": "code",
   "execution_count": 359,
   "metadata": {},
   "outputs": [
    {
     "data": {
      "image/png": "[encoded data removed]",
      "text/plain": [
       "<Figure size 432x288 with 1 Axes>"
      ]
     },
     "metadata": {
      "needs_background": "light"
     },
     "output_type": "display_data"
    }
   ],
   "source": [
    "sns.countplot(x='question-percievement_context', data=df1)\n",
    "plt.title('Determing context percievement')\n",
    "plt.xlabel('Misperceiving permission context')\n",
    "plt.show()"
   ]
  },
  {
   "cell_type": "code",
   "execution_count": 360,
   "metadata": {},
   "outputs": [
    {
     "data": {
      "text/plain": [
       "0    15\n",
       "1    11\n",
       "Name: question-percievement_context, dtype: int64"
      ]
     },
     "execution_count": 360,
     "metadata": {},
     "output_type": "execute_result"
    }
   ],
   "source": [
    "df1['question-percievement_context'].value_counts()"
   ]
  },
  {
   "cell_type": "code",
   "execution_count": 361,
   "metadata": {},
   "outputs": [
    {
     "data": {
      "text/plain": [
       "0    15\n",
       "1    11\n",
       "Name: Are you aware of the consequences your choice has? Bent u zich bewust van de gevolgen die u antwoord heeft? , dtype: int64"
      ]
     },
     "execution_count": 361,
     "metadata": {},
     "output_type": "execute_result"
    }
   ],
   "source": [
    "df1['Are you aware of the consequences your choice has? Bent u zich bewust van de gevolgen die u antwoord heeft? '].value_counts()"
   ]
  },
  {
   "cell_type": "code",
   "execution_count": 362,
   "metadata": {},
   "outputs": [
    {
     "data": {
      "image/png": "[encoded data removed]",
      "text/plain": [
       "<Figure size 432x288 with 1 Axes>"
      ]
     },
     "metadata": {
      "needs_background": "light"
     },
     "output_type": "display_data"
    }
   ],
   "source": [
    "sns.countplot(x='Are you aware of the consequences your choice has? Bent u zich bewust van de gevolgen die u antwoord heeft? ', data=df1)\n",
    "plt.title('Awarness of consequences')\n",
    "plt.xlabel('Aware')\n",
    "plt.show()"
   ]
  },
  {
   "cell_type": "code",
   "execution_count": 364,
   "metadata": {},
   "outputs": [
    {
     "data": {
      "image/png": "[encoded data removed]",
      "text/plain": [
       "<Figure size 432x288 with 1 Axes>"
      ]
     },
     "metadata": {
      "needs_background": "light"
     },
     "output_type": "display_data"
    }
   ],
   "source": [
    "sns.countplot(x='The appearance of the question supports my decision. Het uiterlijk van de vraag helpt mij bij het maken van mijn keuzen.', data=df1)\n",
    "plt.title('UI supports user')\n",
    "plt.xlabel('Feeling of support')\n",
    "plt.show()"
   ]
  }
 ],
 "metadata": {
  "kernelspec": {
   "display_name": "Python 3",
   "language": "python",
   "name": "python3"
  },
  "language_info": {
   "codemirror_mode": {
    "name": "ipython",
    "version": 3
   },
   "file_extension": ".py",
   "mimetype": "text/x-python",
   "name": "python",
   "nbconvert_exporter": "python",
   "pygments_lexer": "ipython3",
   "version": "3.8.3"
  }
 },
 "nbformat": 4,
 "nbformat_minor": 4
}
