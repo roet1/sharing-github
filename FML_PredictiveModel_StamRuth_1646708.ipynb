{
 "cells": [
  {
   "cell_type": "markdown",
   "metadata": {},
   "source": [
    "# Mean speed cycle activity \n",
    "\n",
    "In this notebook we will be predicting the mean speed of cycle activities. for this we several variables of a cycle activity dataset from Strava (activitie tracking app) and a weather dataset from the KNMI (Koninklijk Nederlands Metrologisch Instituut)."
   ]
  },
  {
   "cell_type": "code",
   "execution_count": 1323,
   "metadata": {},
   "outputs": [],
   "source": [
    "import seaborn as sns\n",
    "import pandas as pd\n",
    "import matplotlib.pyplot as plt \n",
    "import sklearn as sk\n",
    "import math\n",
    "import statsmodels.api as sm\n",
    "\n",
    "# train and test data \n",
    "from sklearn.model_selection import train_test_split \n",
    "\n",
    "# regression models \n",
    "from sklearn.tree import DecisionTreeRegressor\n",
    "from sklearn.ensemble import RandomForestRegressor\n",
    "\n",
    "# check preformance for regression \n",
    "from sklearn.metrics import mean_squared_error\n",
    "from sklearn.metrics import r2_score"
   ]
  },
  {
   "cell_type": "markdown",
   "metadata": {},
   "source": [
    "### Cleaning data"
   ]
  },
  {
   "cell_type": "markdown",
   "metadata": {},
   "source": [
    "Load csv files"
   ]
  },
  {
   "cell_type": "code",
   "execution_count": 1324,
   "metadata": {},
   "outputs": [],
   "source": [
    "weather = pd.read_csv('weather.csv',sep=';')#load csv file \n",
    "activities = pd.read_csv('activities_mart.csv', sep=';')#load csv file "
   ]
  },
  {
   "cell_type": "code",
   "execution_count": 1325,
   "metadata": {},
   "outputs": [
    {
     "name": "stdout",
     "output_type": "stream",
     "text": [
      "<class 'pandas.core.frame.DataFrame'>\n",
      "RangeIndex: 159 entries, 0 to 158\n",
      "Data columns (total 9 columns):\n",
      " #   Column                    Non-Null Count  Dtype         \n",
      "---  ------                    --------------  -----         \n",
      " 0   Datetime                  159 non-null    datetime64[ns]\n",
      " 1   Verstreken tijd           159 non-null    float64       \n",
      " 2   Beweegtijd                159 non-null    float64       \n",
      " 3   Afstand                   159 non-null    float64       \n",
      " 4   Hoogteverschil            159 non-null    float64       \n",
      " 5   Max. stijgingspercentage  159 non-null    float64       \n",
      " 6   Neerslag                  159 non-null    float64       \n",
      " 7   Temp_min                  159 non-null    float64       \n",
      " 8   Temp_max                  159 non-null    float64       \n",
      "dtypes: datetime64[ns](1), float64(8)\n",
      "memory usage: 11.3 KB\n"
     ]
    }
   ],
   "source": [
    "weather['datetime'] = pd.to_datetime(weather['datetime'], format='%Y%m%d', errors='ignore')# change dutch to english date\n",
    "\n",
    "weather['TN.1'] = weather['TN.1'].str.replace(',', '.')# change dutch to english punctuation\n",
    "\n",
    "weather['TN.1']= weather['TN.1'].astype('float64')# convert into numerical \n",
    "\n",
    "weather['TX.1'] = weather['TX.1'].str.replace(',', '.')# change dutch to english punctuation\n",
    "\n",
    "weather['TX.1'] = weather['TX.1'].astype('float64')# convert into numerical \n",
    "\n",
    "\n",
    "activities = activities.rename(columns={'Datum van activiteit': 'datetime'})# change column name \n",
    "\n",
    "activities[\"datetime\"] = activities[\"datetime\"].str.replace(\"jan.\", \"01\")\n",
    "activities[\"datetime\"] = activities[\"datetime\"].str.replace(\"feb.\", \"02\")\n",
    "activities[\"datetime\"] = activities[\"datetime\"].str.replace(\"mrt.\", \"03\")\n",
    "activities[\"datetime\"] = activities[\"datetime\"].str.replace(\"apr.\", \"04\")\n",
    "activities[\"datetime\"] = activities[\"datetime\"].str.replace(\"mei.\", \"05\")    \n",
    "activities[\"datetime\"] = activities[\"datetime\"].str.replace(\"jun.\", \"06\")\n",
    "activities[\"datetime\"] = activities[\"datetime\"].str.replace(\"jul.\", \"07\")\n",
    "activities[\"datetime\"] = activities[\"datetime\"].str.replace(\"aug.\", \"08\")\n",
    "activities[\"datetime\"] = activities[\"datetime\"].str.replace(\"sep.\", \"09\")\n",
    "activities[\"datetime\"] = activities[\"datetime\"].str.replace(\"okt.\", \"10\")    \n",
    "activities[\"datetime\"] = activities[\"datetime\"].str.replace(\"nov.\", \"11\")\n",
    "activities[\"datetime\"] = activities[\"datetime\"].str.replace(\"dec.\", \"12\")\n",
    "\n",
    "activities[\"datetime\"] = activities[\"datetime\"].str.replace(\"052019\", \"05 2019\")\n",
    "activities[\"datetime\"] = activities[\"datetime\"].str.replace(\"052020\", \"05 2020\")\n",
    "\n",
    "activities[\"datetime\"] = pd.to_datetime(activities[\"datetime\"], format=\"%d %m %Y %H:%M:%S\")# change format of activity datetime\n",
    "\n",
    "activities[\"datetime\"] = pd.to_datetime(activities[\"datetime\"]).dt.date\n",
    "\n",
    "\n",
    "weather['datetime'] = weather['datetime'].astype('str')\n",
    "activities[\"datetime\"] = activities[\"datetime\"].astype('str')\n",
    "\n",
    "activity_date = []# create new list for dates\n",
    "\n",
    "for date in activities['datetime']:# add dates for activities to list \n",
    "    activity_date.append(date)\n",
    "\n",
    "weather = weather.loc[weather['datetime'].isin(activity_date)]# only select weather data for dates in activities\n",
    "\n",
    "activities = activities.groupby(['datetime']).mean()# group by dattime and calculate mean of double dates in activities for merging\n",
    "\n",
    "weather = weather.set_index(['datetime'])# set index to datetime for merging \n",
    "\n",
    "aw = pd.merge(activities, weather, on = 'datetime')# merge two dataframes on datetime \n",
    "\n",
    "aw = aw.reset_index().fillna(0)\n",
    "\n",
    "aw = aw.drop(['Gewicht sporter', 'Gewicht fiets', 'Grootste hoogte', 'Forenzenrit', 'Verstreken tijd.1', 'Activiteits-ID', 'Hoogteverlies', 'Kleinste hoogte', 'Gemiddelde snelheid', 'Vergelijkbare poging', 'Gemiddeld stijgingspercentage', ' FHN', 'UX', 'TN', 'TX', 'Max. snelheid'], axis=1)\n",
    "\n",
    "aw.columns = aw.columns.str.lstrip()# remove space in column name FHN \n",
    "\n",
    "aw['datetime'] = aw['datetime'].astype('datetime64[ns]')\n",
    "\n",
    "aw = aw.rename(columns={'Afstand.1': 'Afstand', 'TN.1': 'Temp_min', 'TX.1': 'Temp_max', 'RH': 'Neerslag', 'datetime': 'Datetime'})\n",
    "\n",
    "aw['Neerslag'] = aw['Neerslag'].astype('str')\n",
    "aw['Neerslag'] = aw['Neerslag'].str.replace('-', '')\n",
    "aw['Neerslag'] = aw['Neerslag'].astype('float64')\n",
    "\n",
    "aw.info()"
   ]
  },
  {
   "cell_type": "markdown",
   "metadata": {},
   "source": [
    "Now some of the variable units need to be scaled:\n",
    "\n",
    "- Astand is in meters. This needs to be divided by 1000.\n",
    "- Verstreken tijd and Beweegtijd are in seconds. This needs to be divided by 3600.\n",
    "\n",
    "By dividing these variables we can create the dependent variable Mean speed (Gem. snelheid). We can also create an extra variable Break (Pauze) by substracting Total time (Verstreken tijd) and Moving time (Beweegtijd). \n",
    "\n",
    "Before we can include the tempreture as an independent variable we first need to sum Temp_min and Temp_max and divide it by two."
   ]
  },
  {
   "cell_type": "code",
   "execution_count": 1326,
   "metadata": {},
   "outputs": [],
   "source": [
    "aw['Verstreken tijd, uur'] = aw['Verstreken tijd']/3600\n",
    "aw['Beweegtijd, uur'] = aw['Beweegtijd']/3600\n",
    "aw['Afstand'] = aw['Afstand']/1000\n",
    "aw['Gem. snelheid'] = aw['Afstand']/aw['Beweegtijd, uur']\n",
    "aw['Pauze'] = aw['Verstreken tijd, uur'] - aw['Beweegtijd, uur']\n",
    "aw['Dag'] = aw['Datetime'].dt.day_name()\n",
    "aw['Gem. temp'] = (aw['Temp_min'] + aw['Temp_max'])/2"
   ]
  },
  {
   "cell_type": "markdown",
   "metadata": {},
   "source": [
    "After scaling we can subset the variables we need."
   ]
  },
  {
   "cell_type": "code",
   "execution_count": 1327,
   "metadata": {
    "scrolled": true
   },
   "outputs": [
    {
     "data": {
      "text/html": [
       "<div>\n",
       "<style scoped>\n",
       "    .dataframe tbody tr th:only-of-type {\n",
       "        vertical-align: middle;\n",
       "    }\n",
       "\n",
       "    .dataframe tbody tr th {\n",
       "        vertical-align: top;\n",
       "    }\n",
       "\n",
       "    .dataframe thead th {\n",
       "        text-align: right;\n",
       "    }\n",
       "</style>\n",
       "<table border=\"1\" class=\"dataframe\">\n",
       "  <thead>\n",
       "    <tr style=\"text-align: right;\">\n",
       "      <th></th>\n",
       "      <th>Gem. temp</th>\n",
       "      <th>Dag</th>\n",
       "      <th>Pauze</th>\n",
       "      <th>Gem. snelheid</th>\n",
       "      <th>Neerslag</th>\n",
       "      <th>Hoogteverschil</th>\n",
       "    </tr>\n",
       "  </thead>\n",
       "  <tbody>\n",
       "    <tr>\n",
       "      <th>0</th>\n",
       "      <td>23.70</td>\n",
       "      <td>Wednesday</td>\n",
       "      <td>0.549722</td>\n",
       "      <td>23.827148</td>\n",
       "      <td>1.0</td>\n",
       "      <td>277.122986</td>\n",
       "    </tr>\n",
       "    <tr>\n",
       "      <th>1</th>\n",
       "      <td>15.70</td>\n",
       "      <td>Monday</td>\n",
       "      <td>2.856111</td>\n",
       "      <td>21.579832</td>\n",
       "      <td>0.0</td>\n",
       "      <td>439.376007</td>\n",
       "    </tr>\n",
       "    <tr>\n",
       "      <th>2</th>\n",
       "      <td>16.85</td>\n",
       "      <td>Tuesday</td>\n",
       "      <td>2.022500</td>\n",
       "      <td>23.845748</td>\n",
       "      <td>65.0</td>\n",
       "      <td>180.727432</td>\n",
       "    </tr>\n",
       "    <tr>\n",
       "      <th>3</th>\n",
       "      <td>16.25</td>\n",
       "      <td>Monday</td>\n",
       "      <td>0.000000</td>\n",
       "      <td>26.972843</td>\n",
       "      <td>0.0</td>\n",
       "      <td>29.874008</td>\n",
       "    </tr>\n",
       "    <tr>\n",
       "      <th>4</th>\n",
       "      <td>19.50</td>\n",
       "      <td>Friday</td>\n",
       "      <td>0.038056</td>\n",
       "      <td>25.293008</td>\n",
       "      <td>0.0</td>\n",
       "      <td>79.473732</td>\n",
       "    </tr>\n",
       "  </tbody>\n",
       "</table>\n",
       "</div>"
      ],
      "text/plain": [
       "   Gem. temp        Dag     Pauze  Gem. snelheid  Neerslag  Hoogteverschil\n",
       "0      23.70  Wednesday  0.549722      23.827148       1.0      277.122986\n",
       "1      15.70     Monday  2.856111      21.579832       0.0      439.376007\n",
       "2      16.85    Tuesday  2.022500      23.845748      65.0      180.727432\n",
       "3      16.25     Monday  0.000000      26.972843       0.0       29.874008\n",
       "4      19.50     Friday  0.038056      25.293008       0.0       79.473732"
      ]
     },
     "execution_count": 1327,
     "metadata": {},
     "output_type": "execute_result"
    }
   ],
   "source": [
    "df = aw[['Gem. temp', 'Dag', 'Pauze', 'Gem. snelheid', 'Neerslag', 'Hoogteverschil']].copy()\n",
    "df.head()"
   ]
  },
  {
   "cell_type": "markdown",
   "metadata": {},
   "source": [
    "By using a for loop we can determine on what kind of day the activity was performed. Weekday or weekend. "
   ]
  },
  {
   "cell_type": "code",
   "execution_count": 1328,
   "metadata": {},
   "outputs": [],
   "source": [
    "Dag_type = []# open new list to put item from for loop in \n",
    "\n",
    "for item in df['Dag']:\n",
    "    if item == 'Saterday' or item == 'Sunday':\n",
    "        item = 'Weekend'\n",
    "        Dag_type.append(item)\n",
    "    else:\n",
    "        item = 'Weekday'\n",
    "        Dag_type.append(item)\n",
    "                \n",
    "df['Dag_type'] = Dag_type # create column of list "
   ]
  },
  {
   "cell_type": "code",
   "execution_count": 1329,
   "metadata": {
    "scrolled": false
   },
   "outputs": [],
   "source": [
    "df = df.rename(columns={'Dag_type': 'Weekday/weekend', 'Gem. temp': 'Temperature', 'Dag': 'Day', 'Pauze':'Break', 'Gem. snelheid':'Mean speed', 'Neerslag': 'Rainfall', 'Hoogteverschil': 'Elevation'})# translate dutch to english "
   ]
  },
  {
   "cell_type": "markdown",
   "metadata": {},
   "source": [
    "Before we start training the model we can visualise the correlation of the dataframe by using a heatmap."
   ]
  },
  {
   "cell_type": "code",
   "execution_count": 1330,
   "metadata": {
    "scrolled": true
   },
   "outputs": [
    {
     "data": {
      "image/png": "[encoded data removed]",
      "text/plain": [
       "<Figure size 432x288 with 2 Axes>"
      ]
     },
     "metadata": {
      "needs_background": "light"
     },
     "output_type": "display_data"
    }
   ],
   "source": [
    "sns.heatmap(df.corr(), cmap='Oranges', annot = False)# load correlation into heatmap\n",
    "plt.savefig('heatmap.svg')# export svg \n",
    "plt.show() #plot figure"
   ]
  },
  {
   "cell_type": "markdown",
   "metadata": {},
   "source": [
    "The heatmap show us a low correlation between the mean speed (dependent) and other variables (independent). By using a scatterplot matrix we can get a better visualization. "
   ]
  },
  {
   "cell_type": "code",
   "execution_count": 1331,
   "metadata": {},
   "outputs": [
    {
     "data": {
      "image/png": "[encoded data removed]",
      "text/plain": [
       "<Figure size 900x900 with 30 Axes>"
      ]
     },
     "metadata": {
      "needs_background": "light"
     },
     "output_type": "display_data"
    }
   ],
   "source": [
    "sns.pairplot(df)\n",
    "plt.savefig('scatterplot.svg')\n",
    "plt.show() #using Matplotlib to show the plot"
   ]
  },
  {
   "cell_type": "markdown",
   "metadata": {},
   "source": [
    "We can note a few things from the matrix:\n",
    "    \n",
    "- Break, Rainfall and Elevation are right-skewed (positive skewed). They have a tail on the right.\n",
    "- Mean speed is left skewed (negative skewed).\n",
    "- The variables show almost no correlation. Only Break and Elevation show some little correlation. \n",
    "\n",
    "In this notebook we predict the Mean speed (a numerical variable). Therefore, the categorical variables need to be converted into numbers. We can convert the variables by using get dummies function."
   ]
  },
  {
   "cell_type": "code",
   "execution_count": 1332,
   "metadata": {},
   "outputs": [
    {
     "data": {
      "text/html": [
       "<div>\n",
       "<style scoped>\n",
       "    .dataframe tbody tr th:only-of-type {\n",
       "        vertical-align: middle;\n",
       "    }\n",
       "\n",
       "    .dataframe tbody tr th {\n",
       "        vertical-align: top;\n",
       "    }\n",
       "\n",
       "    .dataframe thead th {\n",
       "        text-align: right;\n",
       "    }\n",
       "</style>\n",
       "<table border=\"1\" class=\"dataframe\">\n",
       "  <thead>\n",
       "    <tr style=\"text-align: right;\">\n",
       "      <th></th>\n",
       "      <th>Temperature</th>\n",
       "      <th>Break</th>\n",
       "      <th>Mean speed</th>\n",
       "      <th>Rainfall</th>\n",
       "      <th>Elevation</th>\n",
       "      <th>Day_Friday</th>\n",
       "      <th>Day_Monday</th>\n",
       "      <th>Day_Saturday</th>\n",
       "      <th>Day_Sunday</th>\n",
       "      <th>Day_Thursday</th>\n",
       "      <th>Day_Tuesday</th>\n",
       "      <th>Day_Wednesday</th>\n",
       "      <th>Weekday/weekend_Weekday</th>\n",
       "      <th>Weekday/weekend_Weekend</th>\n",
       "    </tr>\n",
       "  </thead>\n",
       "  <tbody>\n",
       "    <tr>\n",
       "      <th>0</th>\n",
       "      <td>23.70</td>\n",
       "      <td>0.549722</td>\n",
       "      <td>23.827148</td>\n",
       "      <td>1.0</td>\n",
       "      <td>277.122986</td>\n",
       "      <td>0</td>\n",
       "      <td>0</td>\n",
       "      <td>0</td>\n",
       "      <td>0</td>\n",
       "      <td>0</td>\n",
       "      <td>0</td>\n",
       "      <td>1</td>\n",
       "      <td>1</td>\n",
       "      <td>0</td>\n",
       "    </tr>\n",
       "    <tr>\n",
       "      <th>1</th>\n",
       "      <td>15.70</td>\n",
       "      <td>2.856111</td>\n",
       "      <td>21.579832</td>\n",
       "      <td>0.0</td>\n",
       "      <td>439.376007</td>\n",
       "      <td>0</td>\n",
       "      <td>1</td>\n",
       "      <td>0</td>\n",
       "      <td>0</td>\n",
       "      <td>0</td>\n",
       "      <td>0</td>\n",
       "      <td>0</td>\n",
       "      <td>1</td>\n",
       "      <td>0</td>\n",
       "    </tr>\n",
       "    <tr>\n",
       "      <th>2</th>\n",
       "      <td>16.85</td>\n",
       "      <td>2.022500</td>\n",
       "      <td>23.845748</td>\n",
       "      <td>65.0</td>\n",
       "      <td>180.727432</td>\n",
       "      <td>0</td>\n",
       "      <td>0</td>\n",
       "      <td>0</td>\n",
       "      <td>0</td>\n",
       "      <td>0</td>\n",
       "      <td>1</td>\n",
       "      <td>0</td>\n",
       "      <td>1</td>\n",
       "      <td>0</td>\n",
       "    </tr>\n",
       "    <tr>\n",
       "      <th>3</th>\n",
       "      <td>16.25</td>\n",
       "      <td>0.000000</td>\n",
       "      <td>26.972843</td>\n",
       "      <td>0.0</td>\n",
       "      <td>29.874008</td>\n",
       "      <td>0</td>\n",
       "      <td>1</td>\n",
       "      <td>0</td>\n",
       "      <td>0</td>\n",
       "      <td>0</td>\n",
       "      <td>0</td>\n",
       "      <td>0</td>\n",
       "      <td>1</td>\n",
       "      <td>0</td>\n",
       "    </tr>\n",
       "    <tr>\n",
       "      <th>4</th>\n",
       "      <td>19.50</td>\n",
       "      <td>0.038056</td>\n",
       "      <td>25.293008</td>\n",
       "      <td>0.0</td>\n",
       "      <td>79.473732</td>\n",
       "      <td>1</td>\n",
       "      <td>0</td>\n",
       "      <td>0</td>\n",
       "      <td>0</td>\n",
       "      <td>0</td>\n",
       "      <td>0</td>\n",
       "      <td>0</td>\n",
       "      <td>1</td>\n",
       "      <td>0</td>\n",
       "    </tr>\n",
       "  </tbody>\n",
       "</table>\n",
       "</div>"
      ],
      "text/plain": [
       "   Temperature     Break  Mean speed  Rainfall   Elevation  Day_Friday  \\\n",
       "0        23.70  0.549722   23.827148       1.0  277.122986           0   \n",
       "1        15.70  2.856111   21.579832       0.0  439.376007           0   \n",
       "2        16.85  2.022500   23.845748      65.0  180.727432           0   \n",
       "3        16.25  0.000000   26.972843       0.0   29.874008           0   \n",
       "4        19.50  0.038056   25.293008       0.0   79.473732           1   \n",
       "\n",
       "   Day_Monday  Day_Saturday  Day_Sunday  Day_Thursday  Day_Tuesday  \\\n",
       "0           0             0           0             0            0   \n",
       "1           1             0           0             0            0   \n",
       "2           0             0           0             0            1   \n",
       "3           1             0           0             0            0   \n",
       "4           0             0           0             0            0   \n",
       "\n",
       "   Day_Wednesday  Weekday/weekend_Weekday  Weekday/weekend_Weekend  \n",
       "0              1                        1                        0  \n",
       "1              0                        1                        0  \n",
       "2              0                        1                        0  \n",
       "3              0                        1                        0  \n",
       "4              0                        1                        0  "
      ]
     },
     "execution_count": 1332,
     "metadata": {},
     "output_type": "execute_result"
    }
   ],
   "source": [
    "df = pd.get_dummies(df)# convert categorical variables into dummies\n",
    "df.head()"
   ]
  },
  {
   "cell_type": "markdown",
   "metadata": {},
   "source": [
    "### Spliting the data "
   ]
  },
  {
   "cell_type": "markdown",
   "metadata": {},
   "source": [
    "Before we can fit a model we need to set the X and y. X are our independent variables and y is the dependent value that we want to predict. "
   ]
  },
  {
   "cell_type": "code",
   "execution_count": 1333,
   "metadata": {},
   "outputs": [],
   "source": [
    "X = df.loc[:, df.columns != 'Mean speed']# take all column except for Mean speed\n",
    "y = df['Mean speed']"
   ]
  },
  {
   "cell_type": "markdown",
   "metadata": {},
   "source": [
    "Now we need to split the data into a training and test set. We will use the training set to fit the model, and use the test set to evaluate the model "
   ]
  },
  {
   "cell_type": "code",
   "execution_count": 1334,
   "metadata": {},
   "outputs": [],
   "source": [
    "X_train, X_test, y_train, y_test = train_test_split(X, y, train_size = 0.63, test_size = 0.33, random_state = 100) #split X and y value in training and test set"
   ]
  },
  {
   "cell_type": "markdown",
   "metadata": {},
   "source": [
    "### Training the Decision Tree model"
   ]
  },
  {
   "cell_type": "markdown",
   "metadata": {},
   "source": [
    "For the prediction of a numerical variable we need to use a regression model. Therefore, we will be using the decision tree regressor."
   ]
  },
  {
   "cell_type": "code",
   "execution_count": 1335,
   "metadata": {},
   "outputs": [],
   "source": [
    "tree = DecisionTreeRegressor()# create the model \n",
    "tree = tree.fit(X_train, y_train) # fit the model with training set  "
   ]
  },
  {
   "cell_type": "markdown",
   "metadata": {},
   "source": [
    "After training the model we can use to model to perform the prediction. "
   ]
  },
  {
   "cell_type": "code",
   "execution_count": 1336,
   "metadata": {},
   "outputs": [],
   "source": [
    "y_pred = tree.predict(X_test) # perform prediction "
   ]
  },
  {
   "cell_type": "markdown",
   "metadata": {},
   "source": [
    "### Evaluating the model"
   ]
  },
  {
   "cell_type": "markdown",
   "metadata": {},
   "source": [
    "To see how good the fits (goodness of fit (Gof)) we will calculate the $R^2$ by using the predicted Mean speed. "
   ]
  },
  {
   "cell_type": "code",
   "execution_count": 1337,
   "metadata": {},
   "outputs": [
    {
     "name": "stdout",
     "output_type": "stream",
     "text": [
      "The r_squared is = -0.8240122748060994\n"
     ]
    }
   ],
   "source": [
    "r_squared_test = r2_score(y_test, y_pred) # use r2_score to calculate r_squared\n",
    "print(f\"The r_squared is = {r_squared_test}\")"
   ]
  },
  {
   "cell_type": "markdown",
   "metadata": {},
   "source": [
    "This negative $R^2$ means the regression line is worse than using the mean value. In this case, the model doesn't fit the data and the model can't predict any speed values. "
   ]
  },
  {
   "cell_type": "markdown",
   "metadata": {},
   "source": [
    "The negative value can be explained by looking at the $R^2$ formula:\n",
    "\n",
    "\n",
    "$R^2 = 1 - \\frac{SS_{Regression}}{SS_{Total}}$\n",
    "\n",
    "In case of the the Decision Tree model, the $SS_{Regression}$ is higher than the $SS_{Total}$. Therefore, it's better to fit a new model. To first see if there is an actual correlation between the variables we can performe a OLS model."
   ]
  },
  {
   "cell_type": "code",
   "execution_count": 1338,
   "metadata": {},
   "outputs": [
    {
     "data": {
      "text/html": [
       "<table class=\"simpletable\">\n",
       "<caption>OLS Regression Results</caption>\n",
       "<tr>\n",
       "  <th>Dep. Variable:</th>       <td>Mean speed</td>    <th>  R-squared:         </th> <td>   0.298</td>\n",
       "</tr>\n",
       "<tr>\n",
       "  <th>Model:</th>                   <td>OLS</td>       <th>  Adj. R-squared:    </th> <td>   0.250</td>\n",
       "</tr>\n",
       "<tr>\n",
       "  <th>Method:</th>             <td>Least Squares</td>  <th>  F-statistic:       </th> <td>   6.276</td>\n",
       "</tr>\n",
       "<tr>\n",
       "  <th>Date:</th>             <td>Fri, 22 Jan 2021</td> <th>  Prob (F-statistic):</th> <td>5.57e-08</td>\n",
       "</tr>\n",
       "<tr>\n",
       "  <th>Time:</th>                 <td>00:15:07</td>     <th>  Log-Likelihood:    </th> <td> -426.78</td>\n",
       "</tr>\n",
       "<tr>\n",
       "  <th>No. Observations:</th>      <td>   159</td>      <th>  AIC:               </th> <td>   875.6</td>\n",
       "</tr>\n",
       "<tr>\n",
       "  <th>Df Residuals:</th>          <td>   148</td>      <th>  BIC:               </th> <td>   909.3</td>\n",
       "</tr>\n",
       "<tr>\n",
       "  <th>Df Model:</th>              <td>    10</td>      <th>                     </th>     <td> </td>   \n",
       "</tr>\n",
       "<tr>\n",
       "  <th>Covariance Type:</th>      <td>nonrobust</td>    <th>                     </th>     <td> </td>   \n",
       "</tr>\n",
       "</table>\n",
       "<table class=\"simpletable\">\n",
       "<tr>\n",
       "             <td></td>                <th>coef</th>     <th>std err</th>      <th>t</th>      <th>P>|t|</th>  <th>[0.025</th>    <th>0.975]</th>  \n",
       "</tr>\n",
       "<tr>\n",
       "  <th>const</th>                   <td>   13.4476</td> <td>    0.510</td> <td>   26.377</td> <td> 0.000</td> <td>   12.440</td> <td>   14.455</td>\n",
       "</tr>\n",
       "<tr>\n",
       "  <th>Temperature</th>             <td>    0.1300</td> <td>    0.055</td> <td>    2.367</td> <td> 0.019</td> <td>    0.021</td> <td>    0.239</td>\n",
       "</tr>\n",
       "<tr>\n",
       "  <th>Break</th>                   <td>   -0.8942</td> <td>    0.485</td> <td>   -1.842</td> <td> 0.067</td> <td>   -1.853</td> <td>    0.065</td>\n",
       "</tr>\n",
       "<tr>\n",
       "  <th>Rainfall</th>                <td>   -0.0110</td> <td>    0.009</td> <td>   -1.184</td> <td> 0.238</td> <td>   -0.029</td> <td>    0.007</td>\n",
       "</tr>\n",
       "<tr>\n",
       "  <th>Elevation</th>               <td>   -0.0032</td> <td>    0.001</td> <td>   -4.427</td> <td> 0.000</td> <td>   -0.005</td> <td>   -0.002</td>\n",
       "</tr>\n",
       "<tr>\n",
       "  <th>Day_Friday</th>              <td>    1.4165</td> <td>    0.747</td> <td>    1.897</td> <td> 0.060</td> <td>   -0.059</td> <td>    2.892</td>\n",
       "</tr>\n",
       "<tr>\n",
       "  <th>Day_Monday</th>              <td>    1.5186</td> <td>    0.690</td> <td>    2.202</td> <td> 0.029</td> <td>    0.156</td> <td>    2.881</td>\n",
       "</tr>\n",
       "<tr>\n",
       "  <th>Day_Saturday</th>            <td>    1.4500</td> <td>    0.703</td> <td>    2.063</td> <td> 0.041</td> <td>    0.061</td> <td>    2.839</td>\n",
       "</tr>\n",
       "<tr>\n",
       "  <th>Day_Sunday</th>              <td>    4.5846</td> <td>    0.510</td> <td>    8.991</td> <td> 0.000</td> <td>    3.577</td> <td>    5.592</td>\n",
       "</tr>\n",
       "<tr>\n",
       "  <th>Day_Thursday</th>            <td>    1.3919</td> <td>    0.660</td> <td>    2.108</td> <td> 0.037</td> <td>    0.087</td> <td>    2.697</td>\n",
       "</tr>\n",
       "<tr>\n",
       "  <th>Day_Tuesday</th>             <td>    0.7086</td> <td>    0.611</td> <td>    1.161</td> <td> 0.248</td> <td>   -0.498</td> <td>    1.915</td>\n",
       "</tr>\n",
       "<tr>\n",
       "  <th>Day_Wednesday</th>           <td>    2.3773</td> <td>    0.722</td> <td>    3.293</td> <td> 0.001</td> <td>    0.951</td> <td>    3.804</td>\n",
       "</tr>\n",
       "<tr>\n",
       "  <th>Weekday/weekend_Weekday</th> <td>    8.8630</td> <td>    0.392</td> <td>   22.616</td> <td> 0.000</td> <td>    8.089</td> <td>    9.637</td>\n",
       "</tr>\n",
       "<tr>\n",
       "  <th>Weekday/weekend_Weekend</th> <td>    4.5846</td> <td>    0.510</td> <td>    8.991</td> <td> 0.000</td> <td>    3.577</td> <td>    5.592</td>\n",
       "</tr>\n",
       "</table>\n",
       "<table class=\"simpletable\">\n",
       "<tr>\n",
       "  <th>Omnibus:</th>       <td>136.381</td> <th>  Durbin-Watson:     </th> <td>   1.272</td>\n",
       "</tr>\n",
       "<tr>\n",
       "  <th>Prob(Omnibus):</th> <td> 0.000</td>  <th>  Jarque-Bera (JB):  </th> <td>1691.717</td>\n",
       "</tr>\n",
       "<tr>\n",
       "  <th>Skew:</th>          <td>-3.134</td>  <th>  Prob(JB):          </th> <td>    0.00</td>\n",
       "</tr>\n",
       "<tr>\n",
       "  <th>Kurtosis:</th>      <td>17.699</td>  <th>  Cond. No.          </th> <td>1.27e+19</td>\n",
       "</tr>\n",
       "</table><br/><br/>Warnings:<br/>[1] Standard Errors assume that the covariance matrix of the errors is correctly specified.<br/>[2] The smallest eigenvalue is 2.63e-31. This might indicate that there are<br/>strong multicollinearity problems or that the design matrix is singular."
      ],
      "text/plain": [
       "<class 'statsmodels.iolib.summary.Summary'>\n",
       "\"\"\"\n",
       "                            OLS Regression Results                            \n",
       "==============================================================================\n",
       "Dep. Variable:             Mean speed   R-squared:                       0.298\n",
       "Model:                            OLS   Adj. R-squared:                  0.250\n",
       "Method:                 Least Squares   F-statistic:                     6.276\n",
       "Date:                Fri, 22 Jan 2021   Prob (F-statistic):           5.57e-08\n",
       "Time:                        00:15:07   Log-Likelihood:                -426.78\n",
       "No. Observations:                 159   AIC:                             875.6\n",
       "Df Residuals:                     148   BIC:                             909.3\n",
       "Df Model:                          10                                         \n",
       "Covariance Type:            nonrobust                                         \n",
       "===========================================================================================\n",
       "                              coef    std err          t      P>|t|      [0.025      0.975]\n",
       "-------------------------------------------------------------------------------------------\n",
       "const                      13.4476      0.510     26.377      0.000      12.440      14.455\n",
       "Temperature                 0.1300      0.055      2.367      0.019       0.021       0.239\n",
       "Break                      -0.8942      0.485     -1.842      0.067      -1.853       0.065\n",
       "Rainfall                   -0.0110      0.009     -1.184      0.238      -0.029       0.007\n",
       "Elevation                  -0.0032      0.001     -4.427      0.000      -0.005      -0.002\n",
       "Day_Friday                  1.4165      0.747      1.897      0.060      -0.059       2.892\n",
       "Day_Monday                  1.5186      0.690      2.202      0.029       0.156       2.881\n",
       "Day_Saturday                1.4500      0.703      2.063      0.041       0.061       2.839\n",
       "Day_Sunday                  4.5846      0.510      8.991      0.000       3.577       5.592\n",
       "Day_Thursday                1.3919      0.660      2.108      0.037       0.087       2.697\n",
       "Day_Tuesday                 0.7086      0.611      1.161      0.248      -0.498       1.915\n",
       "Day_Wednesday               2.3773      0.722      3.293      0.001       0.951       3.804\n",
       "Weekday/weekend_Weekday     8.8630      0.392     22.616      0.000       8.089       9.637\n",
       "Weekday/weekend_Weekend     4.5846      0.510      8.991      0.000       3.577       5.592\n",
       "==============================================================================\n",
       "Omnibus:                      136.381   Durbin-Watson:                   1.272\n",
       "Prob(Omnibus):                  0.000   Jarque-Bera (JB):             1691.717\n",
       "Skew:                          -3.134   Prob(JB):                         0.00\n",
       "Kurtosis:                      17.699   Cond. No.                     1.27e+19\n",
       "==============================================================================\n",
       "\n",
       "Warnings:\n",
       "[1] Standard Errors assume that the covariance matrix of the errors is correctly specified.\n",
       "[2] The smallest eigenvalue is 2.63e-31. This might indicate that there are\n",
       "strong multicollinearity problems or that the design matrix is singular.\n",
       "\"\"\""
      ]
     },
     "metadata": {},
     "output_type": "display_data"
    }
   ],
   "source": [
    "X = sm.add_constant(X)\n",
    "mreg = sm.OLS(y, X).fit()\n",
    "display(mreg.summary())"
   ]
  },
  {
   "cell_type": "markdown",
   "metadata": {},
   "source": [
    "The OLS model shows us a correlation for each variable against the Mean speed. We can also read a positive $R^2$."
   ]
  },
  {
   "cell_type": "markdown",
   "metadata": {},
   "source": [
    "### Training the Random Forest model\n",
    "\n",
    "Now we use another algorithm model to see if we can fit a better model. This time we will be using the \n",
    "Random Forest (RF) regressor. \n",
    "\n",
    "For the RF we already created the training and test. N_estimator is the number of trees we use for the model (n=5), and max_features is the size of the random subsets (tree branches) of features to consider when splitting a tree node."
   ]
  },
  {
   "cell_type": "code",
   "execution_count": 1339,
   "metadata": {},
   "outputs": [],
   "source": [
    "rf = RandomForestRegressor(n_estimators = 7, max_features = 1.0, random_state=100) #create the model\n",
    "rf = rf.fit(X_train, y_train) # fit the model \n",
    "\n",
    "y_pred = rf.predict(X_test) # perform prediction "
   ]
  },
  {
   "cell_type": "markdown",
   "metadata": {},
   "source": [
    "### Evaluating the model "
   ]
  },
  {
   "cell_type": "code",
   "execution_count": 1340,
   "metadata": {},
   "outputs": [
    {
     "name": "stdout",
     "output_type": "stream",
     "text": [
      "The r_squared is = 0.2786377956864783\n"
     ]
    }
   ],
   "source": [
    "r_squared_test = r2_score(y_test, y_pred) #use r2_score to calculate r_squared\n",
    "print(f\"The r_squared is = {r_squared_test}\")"
   ]
  },
  {
   "cell_type": "markdown",
   "metadata": {},
   "source": [
    "This model The RF model fits the model poorly. The Gof of the model is 28%. This means the model explains 28% of the varibility of the response data around its mean. Now we have a positive value we can also perform a Mean Squared Error (MSE).  The lower the $MSE$ the better. For the $MSE$ we will be using the following formula:\n",
    "\n",
    "$MSE = \\frac{1}{n} \\sum_{n=1}^{n} (y_i − \\hat{f}(x_i))$\n",
    "\n",
    "After calculating the $MSE$ we take the $RMSE$ to see how much the model is off."
   ]
  },
  {
   "cell_type": "code",
   "execution_count": 1346,
   "metadata": {},
   "outputs": [
    {
     "name": "stdout",
     "output_type": "stream",
     "text": [
      "The RMSE is = 3.7198552009151107\n"
     ]
    }
   ],
   "source": [
    "mse = sk.metrics.mean_squared_error(y_test, y_pred) # calulate model fit for the actual y an dpredicted y\n",
    "rmse = math.sqrt(mse)\n",
    "print(f\"The RMSE is = {rmse}\")"
   ]
  },
  {
   "cell_type": "markdown",
   "metadata": {},
   "source": [
    "The $RMSE$ is the absolute fit of the model to the data. With a $RMSE$ of 3.72, we can conclude that the RF model predicts about 3.72 off of the mean speed. "
   ]
  },
  {
   "cell_type": "markdown",
   "metadata": {},
   "source": [
    "### Visualizing the best line"
   ]
  },
  {
   "cell_type": "code",
   "execution_count": 1342,
   "metadata": {},
   "outputs": [],
   "source": [
    "# create dataframe of y_test and y_pred\n",
    "data = {'Actual Mean speed':  y_test, \n",
    "        'Predicted Mean speed': y_pred\n",
    "        }\n",
    "\n",
    "df1 = pd.DataFrame (data, columns = ['Actual Mean speed','Predicted Mean speed'])"
   ]
  },
  {
   "cell_type": "code",
   "execution_count": 1344,
   "metadata": {},
   "outputs": [
    {
     "data": {
      "image/png": "[encoded data removed]",
      "text/plain": [
       "<Figure size 432x288 with 1 Axes>"
      ]
     },
     "metadata": {
      "needs_background": "light"
     },
     "output_type": "display_data"
    }
   ],
   "source": [
    "sns.scatterplot(x='Actual Mean speed',y='Predicted Mean speed',data=df1)\n",
    " #Ditto for y-axis. I want both axes to have the same length, so we can compare them\n",
    "plt.plot([0, 30], [0, 30], color='red', lw=3) #This draws the straight red line, you can leave this out if you wish\n",
    "plt.title('Actual against predicted mean speed')\n",
    "plt.xlabel('Mean speed for activity')\n",
    "plt.ylabel('Mean speed for activity (predicted)')\n",
    "plt.savefig('predicted.svg')\n",
    "plt.show()"
   ]
  },
  {
   "cell_type": "markdown",
   "metadata": {},
   "source": [
    "On the x-axis we see the actual mean speed, and on the y-axis the predicted. We see that the points are not on the line. Therefore, we can conclude that the model predicts too high (overshoots) for low mean speed, and too low (undershoots for high mean spead."
   ]
  },
  {
   "cell_type": "markdown",
   "metadata": {},
   "source": [
    "### Conclusion"
   ]
  },
  {
   "cell_type": "markdown",
   "metadata": {},
   "source": [
    "With a $R^2$ of 0.28 and a $RMSE$ of 3.72 we can conclude that the model has an overall poor fitting. However, we are predicting a variable in a human activity context. Therefore, we are predicting human behavior. This can explain the poor fitting."
   ]
  }
 ],
 "metadata": {
  "kernelspec": {
   "display_name": "Python 3",
   "language": "python",
   "name": "python3"
  },
  "language_info": {
   "codemirror_mode": {
    "name": "ipython",
    "version": 3
   },
   "file_extension": ".py",
   "mimetype": "text/x-python",
   "name": "python",
   "nbconvert_exporter": "python",
   "pygments_lexer": "ipython3",
   "version": "3.8.3"
  }
 },
 "nbformat": 4,
 "nbformat_minor": 4
}
