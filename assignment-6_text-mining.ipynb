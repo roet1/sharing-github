{
 "cells": [
  {
   "cell_type": "markdown",
   "metadata": {},
   "source": [
    "# Predicting dress reviews \n",
    "\n",
    "In this notebook we will be using the Women’s E-Commerce Clothing Reviews data set to predict whether dresses reviews are positive or negative/ neutral. Positive reviews receive >3 point and negative/ neutral reviews <4 points. To predict this classification we will use a Naïve Bayes classifier. "
   ]
  },
  {
   "cell_type": "code",
   "execution_count": 65,
   "metadata": {},
   "outputs": [],
   "source": [
    "import pandas as pd\n",
    "import seaborn as sns\n",
    "import sklearn as sk\n",
    "import pandas as pd\n",
    "import matplotlib.pyplot as plt\n",
    "\n",
    "from sklearn.model_selection import train_test_split\n",
    "from sklearn.feature_extraction.text import CountVectorizer\n",
    "from sklearn.naive_bayes import MultinomialNB\n",
    "from sklearn.metrics import confusion_matrix\n",
    "from sklearn.metrics import classification_report"
   ]
  },
  {
   "cell_type": "markdown",
   "metadata": {},
   "source": [
    "### Importing and pre-processing the data"
   ]
  },
  {
   "cell_type": "code",
   "execution_count": 66,
   "metadata": {},
   "outputs": [
    {
     "data": {
      "text/html": [
       "<div>\n",
       "<style scoped>\n",
       "    .dataframe tbody tr th:only-of-type {\n",
       "        vertical-align: middle;\n",
       "    }\n",
       "\n",
       "    .dataframe tbody tr th {\n",
       "        vertical-align: top;\n",
       "    }\n",
       "\n",
       "    .dataframe thead th {\n",
       "        text-align: right;\n",
       "    }\n",
       "</style>\n",
       "<table border=\"1\" class=\"dataframe\">\n",
       "  <thead>\n",
       "    <tr style=\"text-align: right;\">\n",
       "      <th></th>\n",
       "      <th>Clothing ID</th>\n",
       "      <th>Review Text</th>\n",
       "      <th>Rating</th>\n",
       "      <th>Class Name</th>\n",
       "    </tr>\n",
       "  </thead>\n",
       "  <tbody>\n",
       "    <tr>\n",
       "      <th>0</th>\n",
       "      <td>767</td>\n",
       "      <td>Absolutely wonderful - silky and sexy and comf...</td>\n",
       "      <td>4</td>\n",
       "      <td>Intimates</td>\n",
       "    </tr>\n",
       "    <tr>\n",
       "      <th>1</th>\n",
       "      <td>1080</td>\n",
       "      <td>Love this dress!  it's sooo pretty.  i happene...</td>\n",
       "      <td>5</td>\n",
       "      <td>Dresses</td>\n",
       "    </tr>\n",
       "    <tr>\n",
       "      <th>2</th>\n",
       "      <td>1077</td>\n",
       "      <td>I had such high hopes for this dress and reall...</td>\n",
       "      <td>3</td>\n",
       "      <td>Dresses</td>\n",
       "    </tr>\n",
       "    <tr>\n",
       "      <th>3</th>\n",
       "      <td>1049</td>\n",
       "      <td>I love, love, love this jumpsuit. it's fun, fl...</td>\n",
       "      <td>5</td>\n",
       "      <td>Pants</td>\n",
       "    </tr>\n",
       "    <tr>\n",
       "      <th>4</th>\n",
       "      <td>847</td>\n",
       "      <td>This shirt is very flattering to all due to th...</td>\n",
       "      <td>5</td>\n",
       "      <td>Blouses</td>\n",
       "    </tr>\n",
       "  </tbody>\n",
       "</table>\n",
       "</div>"
      ],
      "text/plain": [
       "   Clothing ID                                        Review Text  Rating  \\\n",
       "0          767  Absolutely wonderful - silky and sexy and comf...       4   \n",
       "1         1080  Love this dress!  it's sooo pretty.  i happene...       5   \n",
       "2         1077  I had such high hopes for this dress and reall...       3   \n",
       "3         1049  I love, love, love this jumpsuit. it's fun, fl...       5   \n",
       "4          847  This shirt is very flattering to all due to th...       5   \n",
       "\n",
       "  Class Name  \n",
       "0  Intimates  \n",
       "1    Dresses  \n",
       "2    Dresses  \n",
       "3      Pants  \n",
       "4    Blouses  "
      ]
     },
     "execution_count": 66,
     "metadata": {},
     "output_type": "execute_result"
    }
   ],
   "source": [
    "df = pd.read_csv('Assignment text mining - data clothing reviews.csv')\n",
    "df = df[['Clothing ID','Review Text', 'Rating', 'Class Name']]# subset needed columns \n",
    "df.head()"
   ]
  },
  {
   "cell_type": "markdown",
   "metadata": {},
   "source": [
    "When we take a look at the data set the Class Name reveals there are not only dresses in this data set. Therefore, we need to drop the reviews about non dresses. Also, we need to drop NaN values. "
   ]
  },
  {
   "cell_type": "code",
   "execution_count": 67,
   "metadata": {},
   "outputs": [
    {
     "name": "stderr",
     "output_type": "stream",
     "text": [
      "<ipython-input-67-b7b3e55574d1>:2: SettingWithCopyWarning: \n",
      "A value is trying to be set on a copy of a slice from a DataFrame\n",
      "\n",
      "See the caveats in the documentation: https://pandas.pydata.org/pandas-docs/stable/user_guide/indexing.html#returning-a-view-versus-a-copy\n",
      "  df_dresses.dropna(axis=0,how='any',thresh=None,subset=None,inplace=True)# drop NaN values\n"
     ]
    },
    {
     "data": {
      "text/html": [
       "<div>\n",
       "<style scoped>\n",
       "    .dataframe tbody tr th:only-of-type {\n",
       "        vertical-align: middle;\n",
       "    }\n",
       "\n",
       "    .dataframe tbody tr th {\n",
       "        vertical-align: top;\n",
       "    }\n",
       "\n",
       "    .dataframe thead th {\n",
       "        text-align: right;\n",
       "    }\n",
       "</style>\n",
       "<table border=\"1\" class=\"dataframe\">\n",
       "  <thead>\n",
       "    <tr style=\"text-align: right;\">\n",
       "      <th></th>\n",
       "      <th>Clothing ID</th>\n",
       "      <th>Review Text</th>\n",
       "      <th>Rating</th>\n",
       "      <th>Class Name</th>\n",
       "    </tr>\n",
       "  </thead>\n",
       "  <tbody>\n",
       "    <tr>\n",
       "      <th>1</th>\n",
       "      <td>1080</td>\n",
       "      <td>Love this dress!  it's sooo pretty.  i happene...</td>\n",
       "      <td>5</td>\n",
       "      <td>Dresses</td>\n",
       "    </tr>\n",
       "    <tr>\n",
       "      <th>2</th>\n",
       "      <td>1077</td>\n",
       "      <td>I had such high hopes for this dress and reall...</td>\n",
       "      <td>3</td>\n",
       "      <td>Dresses</td>\n",
       "    </tr>\n",
       "    <tr>\n",
       "      <th>5</th>\n",
       "      <td>1080</td>\n",
       "      <td>I love tracy reese dresses, but this one is no...</td>\n",
       "      <td>2</td>\n",
       "      <td>Dresses</td>\n",
       "    </tr>\n",
       "    <tr>\n",
       "      <th>8</th>\n",
       "      <td>1077</td>\n",
       "      <td>I love this dress. i usually get an xs but it ...</td>\n",
       "      <td>5</td>\n",
       "      <td>Dresses</td>\n",
       "    </tr>\n",
       "    <tr>\n",
       "      <th>9</th>\n",
       "      <td>1077</td>\n",
       "      <td>I'm 5\"5' and 125 lbs. i ordered the s petite t...</td>\n",
       "      <td>5</td>\n",
       "      <td>Dresses</td>\n",
       "    </tr>\n",
       "  </tbody>\n",
       "</table>\n",
       "</div>"
      ],
      "text/plain": [
       "   Clothing ID                                        Review Text  Rating  \\\n",
       "1         1080  Love this dress!  it's sooo pretty.  i happene...       5   \n",
       "2         1077  I had such high hopes for this dress and reall...       3   \n",
       "5         1080  I love tracy reese dresses, but this one is no...       2   \n",
       "8         1077  I love this dress. i usually get an xs but it ...       5   \n",
       "9         1077  I'm 5\"5' and 125 lbs. i ordered the s petite t...       5   \n",
       "\n",
       "  Class Name  \n",
       "1    Dresses  \n",
       "2    Dresses  \n",
       "5    Dresses  \n",
       "8    Dresses  \n",
       "9    Dresses  "
      ]
     },
     "execution_count": 67,
     "metadata": {},
     "output_type": "execute_result"
    }
   ],
   "source": [
    "df_dresses = df[(df[\"Class Name\"] == \"Dresses\")]# drop rows with non dresses \n",
    "df_dresses.dropna(axis=0,how='any',thresh=None,subset=None,inplace=True)# drop NaN values\n",
    "\n",
    "df_dresses.head()"
   ]
  },
  {
   "cell_type": "markdown",
   "metadata": {},
   "source": [
    "Now we need to determine whether a review is positive or negative/ neutral and create a new column for this."
   ]
  },
  {
   "cell_type": "code",
   "execution_count": 68,
   "metadata": {},
   "outputs": [
    {
     "name": "stderr",
     "output_type": "stream",
     "text": [
      "<ipython-input-68-7487fa47e01f>:7: SettingWithCopyWarning: \n",
      "A value is trying to be set on a copy of a slice from a DataFrame.\n",
      "Try using .loc[row_indexer,col_indexer] = value instead\n",
      "\n",
      "See the caveats in the documentation: https://pandas.pydata.org/pandas-docs/stable/user_guide/indexing.html#returning-a-view-versus-a-copy\n",
      "  df_dresses['Rate'] = df_dresses['Rating'].apply(rate)# create a column with positive or negative/ neutral\n"
     ]
    },
    {
     "data": {
      "text/html": [
       "<div>\n",
       "<style scoped>\n",
       "    .dataframe tbody tr th:only-of-type {\n",
       "        vertical-align: middle;\n",
       "    }\n",
       "\n",
       "    .dataframe tbody tr th {\n",
       "        vertical-align: top;\n",
       "    }\n",
       "\n",
       "    .dataframe thead th {\n",
       "        text-align: right;\n",
       "    }\n",
       "</style>\n",
       "<table border=\"1\" class=\"dataframe\">\n",
       "  <thead>\n",
       "    <tr style=\"text-align: right;\">\n",
       "      <th></th>\n",
       "      <th>Clothing ID</th>\n",
       "      <th>Review Text</th>\n",
       "      <th>Rating</th>\n",
       "      <th>Class Name</th>\n",
       "      <th>Rate</th>\n",
       "    </tr>\n",
       "  </thead>\n",
       "  <tbody>\n",
       "    <tr>\n",
       "      <th>1</th>\n",
       "      <td>1080</td>\n",
       "      <td>Love this dress!  it's sooo pretty.  i happene...</td>\n",
       "      <td>5</td>\n",
       "      <td>Dresses</td>\n",
       "      <td>Positive</td>\n",
       "    </tr>\n",
       "    <tr>\n",
       "      <th>2</th>\n",
       "      <td>1077</td>\n",
       "      <td>I had such high hopes for this dress and reall...</td>\n",
       "      <td>3</td>\n",
       "      <td>Dresses</td>\n",
       "      <td>Negative/ neutral</td>\n",
       "    </tr>\n",
       "    <tr>\n",
       "      <th>5</th>\n",
       "      <td>1080</td>\n",
       "      <td>I love tracy reese dresses, but this one is no...</td>\n",
       "      <td>2</td>\n",
       "      <td>Dresses</td>\n",
       "      <td>Negative/ neutral</td>\n",
       "    </tr>\n",
       "    <tr>\n",
       "      <th>8</th>\n",
       "      <td>1077</td>\n",
       "      <td>I love this dress. i usually get an xs but it ...</td>\n",
       "      <td>5</td>\n",
       "      <td>Dresses</td>\n",
       "      <td>Positive</td>\n",
       "    </tr>\n",
       "    <tr>\n",
       "      <th>9</th>\n",
       "      <td>1077</td>\n",
       "      <td>I'm 5\"5' and 125 lbs. i ordered the s petite t...</td>\n",
       "      <td>5</td>\n",
       "      <td>Dresses</td>\n",
       "      <td>Positive</td>\n",
       "    </tr>\n",
       "  </tbody>\n",
       "</table>\n",
       "</div>"
      ],
      "text/plain": [
       "   Clothing ID                                        Review Text  Rating  \\\n",
       "1         1080  Love this dress!  it's sooo pretty.  i happene...       5   \n",
       "2         1077  I had such high hopes for this dress and reall...       3   \n",
       "5         1080  I love tracy reese dresses, but this one is no...       2   \n",
       "8         1077  I love this dress. i usually get an xs but it ...       5   \n",
       "9         1077  I'm 5\"5' and 125 lbs. i ordered the s petite t...       5   \n",
       "\n",
       "  Class Name               Rate  \n",
       "1    Dresses           Positive  \n",
       "2    Dresses  Negative/ neutral  \n",
       "5    Dresses  Negative/ neutral  \n",
       "8    Dresses           Positive  \n",
       "9    Dresses           Positive  "
      ]
     },
     "execution_count": 68,
     "metadata": {},
     "output_type": "execute_result"
    }
   ],
   "source": [
    "def rate(x):\n",
    "    if(x > 3): \n",
    "        return 'Positive'\n",
    "    else: \n",
    "        return 'Negative/ neutral'\n",
    "\n",
    "df_dresses['Rate'] = df_dresses['Rating'].apply(rate)# create a column with positive or negative/ neutral\n",
    "df_dresses.head()"
   ]
  },
  {
   "cell_type": "markdown",
   "metadata": {},
   "source": [
    "### Document feature matrix\n",
    "\n",
    "Now the data set is ready to be used, we can create the document feature matrix. The document feature matrix consist out of rows (Document) and columns (different words). Before we can create the matrix we first need to create a dictionary."
   ]
  },
  {
   "cell_type": "code",
   "execution_count": 69,
   "metadata": {},
   "outputs": [],
   "source": [
    "text = df_dresses['Review Text'].values.astype('U') # taking the text from the df_dresses and converting it to Unicode\n",
    "vect = CountVectorizer(stop_words='english') # create the CV object, with English stop words\n",
    "vect = vect.fit(text) # fit the model with the words from the Review Text\n",
    "vect\n",
    "feature_names = vect.get_feature_names() # get the words from the vocabulary"
   ]
  },
  {
   "cell_type": "markdown",
   "metadata": {},
   "source": [
    "Now we have the dictionary we can count the occurance of every word."
   ]
  },
  {
   "cell_type": "code",
   "execution_count": 70,
   "metadata": {},
   "outputs": [
    {
     "name": "stdout",
     "output_type": "stream",
     "text": [
      "  (2, 8)\t1\n",
      "  (20, 38)\t1\n",
      "  (21, 4)\t1\n",
      "  (21, 45)\t1\n",
      "  (22, 12)\t1\n",
      "  (25, 40)\t1\n",
      "  (34, 12)\t2\n",
      "  (38, 31)\t1\n"
     ]
    }
   ],
   "source": [
    "docu_feat = vect.transform(text) # create the matrix\n",
    "print(docu_feat[0:50,0:50]) # print the first 50 words of the matrix"
   ]
  },
  {
   "cell_type": "markdown",
   "metadata": {},
   "source": [
    "### Split the data set into a training and a test set and fitting the model"
   ]
  },
  {
   "cell_type": "code",
   "execution_count": 71,
   "metadata": {},
   "outputs": [],
   "source": [
    "X = docu_feat # creating x\n",
    "y = df_dresses['Rate'] # creating y\n",
    "\n",
    "X_train, X_test, y_train, y_test = train_test_split(X, y, test_size=0.3, random_state=1)# spliting the data set into training set and test set\n",
    "\n",
    "nb = MultinomialNB() # creating the Naïve Bayes model\n",
    "nb = nb.fit(X_train, y_train) # fitting the Naïve Bayes model"
   ]
  },
  {
   "cell_type": "markdown",
   "metadata": {},
   "source": [
    "### Evaluate the performance of your model\n",
    "\n",
    "Now we need to evaluate the performance of the model. We do this by using a confusion matrix."
   ]
  },
  {
   "cell_type": "code",
   "execution_count": 72,
   "metadata": {},
   "outputs": [
    {
     "data": {
      "text/html": [
       "<div>\n",
       "<style scoped>\n",
       "    .dataframe tbody tr th:only-of-type {\n",
       "        vertical-align: middle;\n",
       "    }\n",
       "\n",
       "    .dataframe tbody tr th {\n",
       "        vertical-align: top;\n",
       "    }\n",
       "\n",
       "    .dataframe thead th {\n",
       "        text-align: right;\n",
       "    }\n",
       "</style>\n",
       "<table border=\"1\" class=\"dataframe\">\n",
       "  <thead>\n",
       "    <tr style=\"text-align: right;\">\n",
       "      <th></th>\n",
       "      <th>Negative (predicted)</th>\n",
       "      <th>Positive (predicted)</th>\n",
       "    </tr>\n",
       "  </thead>\n",
       "  <tbody>\n",
       "    <tr>\n",
       "      <th>Negative (actual)</th>\n",
       "      <td>301</td>\n",
       "      <td>168</td>\n",
       "    </tr>\n",
       "    <tr>\n",
       "      <th>Positive (actual)</th>\n",
       "      <td>107</td>\n",
       "      <td>1268</td>\n",
       "    </tr>\n",
       "  </tbody>\n",
       "</table>\n",
       "</div>"
      ],
      "text/plain": [
       "                   Negative (predicted)  Positive (predicted)\n",
       "Negative (actual)                   301                   168\n",
       "Positive (actual)                   107                  1268"
      ]
     },
     "execution_count": 72,
     "metadata": {},
     "output_type": "execute_result"
    }
   ],
   "source": [
    "y_pred = nb.predict(X_test) #the predicted values\n",
    "cm = confusion_matrix(y_test, y_pred) #creates a \"confusion matrix\"\n",
    "cm = pd.DataFrame(cm, index = [\"Negative (actual)\", \"Positive (actual)\"], columns = [\"Negative (predicted)\", \"Positive (predicted)\"])\n",
    "cm"
   ]
  },
  {
   "cell_type": "markdown",
   "metadata": {},
   "source": [
    "With the confusion matrix we can calculate the accuracy, recall and precision:"
   ]
  },
  {
   "cell_type": "code",
   "execution_count": 73,
   "metadata": {},
   "outputs": [
    {
     "name": "stdout",
     "output_type": "stream",
     "text": [
      "                   precision    recall  f1-score   support\n",
      "\n",
      "Negative/ neutral       0.74      0.64      0.69       469\n",
      "         Positive       0.88      0.92      0.90      1375\n",
      "\n",
      "         accuracy                           0.85      1844\n",
      "        macro avg       0.81      0.78      0.79      1844\n",
      "     weighted avg       0.85      0.85      0.85      1844\n",
      "\n"
     ]
    }
   ],
   "source": [
    "print(classification_report(y_test, y_pred))"
   ]
  },
  {
   "cell_type": "markdown",
   "metadata": {},
   "source": [
    "From the confusion matrix we can tell that our model has a decent accuracy of 85%. Now we can fit the model on the whole data set. "
   ]
  },
  {
   "cell_type": "code",
   "execution_count": 74,
   "metadata": {},
   "outputs": [
    {
     "name": "stderr",
     "output_type": "stream",
     "text": [
      "<ipython-input-74-3369c7ce71ef>:1: SettingWithCopyWarning: \n",
      "A value is trying to be set on a copy of a slice from a DataFrame.\n",
      "Try using .loc[row_indexer,col_indexer] = value instead\n",
      "\n",
      "See the caveats in the documentation: https://pandas.pydata.org/pandas-docs/stable/user_guide/indexing.html#returning-a-view-versus-a-copy\n",
      "  df_dresses[\"Rate_Prediction\"] = nb.predict(X)\n"
     ]
    },
    {
     "data": {
      "text/html": [
       "<div>\n",
       "<style scoped>\n",
       "    .dataframe tbody tr th:only-of-type {\n",
       "        vertical-align: middle;\n",
       "    }\n",
       "\n",
       "    .dataframe tbody tr th {\n",
       "        vertical-align: top;\n",
       "    }\n",
       "\n",
       "    .dataframe thead th {\n",
       "        text-align: right;\n",
       "    }\n",
       "</style>\n",
       "<table border=\"1\" class=\"dataframe\">\n",
       "  <thead>\n",
       "    <tr style=\"text-align: right;\">\n",
       "      <th></th>\n",
       "      <th>Clothing ID</th>\n",
       "      <th>Review Text</th>\n",
       "      <th>Rating</th>\n",
       "      <th>Class Name</th>\n",
       "      <th>Rate</th>\n",
       "      <th>Rate_Prediction</th>\n",
       "    </tr>\n",
       "  </thead>\n",
       "  <tbody>\n",
       "    <tr>\n",
       "      <th>23</th>\n",
       "      <td>1077</td>\n",
       "      <td>Cute little dress fits tts. it is a little hig...</td>\n",
       "      <td>3</td>\n",
       "      <td>Dresses</td>\n",
       "      <td>Negative/ neutral</td>\n",
       "      <td>Positive</td>\n",
       "    </tr>\n",
       "    <tr>\n",
       "      <th>52</th>\n",
       "      <td>1104</td>\n",
       "      <td>Love the color and style, but material snags e...</td>\n",
       "      <td>3</td>\n",
       "      <td>Dresses</td>\n",
       "      <td>Negative/ neutral</td>\n",
       "      <td>Positive</td>\n",
       "    </tr>\n",
       "    <tr>\n",
       "      <th>311</th>\n",
       "      <td>1089</td>\n",
       "      <td>Looks beautiful online but has too much materi...</td>\n",
       "      <td>3</td>\n",
       "      <td>Dresses</td>\n",
       "      <td>Negative/ neutral</td>\n",
       "      <td>Positive</td>\n",
       "    </tr>\n",
       "    <tr>\n",
       "      <th>383</th>\n",
       "      <td>1104</td>\n",
       "      <td>This dress is not what i expected. the bottom ...</td>\n",
       "      <td>3</td>\n",
       "      <td>Dresses</td>\n",
       "      <td>Negative/ neutral</td>\n",
       "      <td>Positive</td>\n",
       "    </tr>\n",
       "    <tr>\n",
       "      <th>417</th>\n",
       "      <td>1083</td>\n",
       "      <td>I love byron lars dresses, and this design is ...</td>\n",
       "      <td>2</td>\n",
       "      <td>Dresses</td>\n",
       "      <td>Negative/ neutral</td>\n",
       "      <td>Positive</td>\n",
       "    </tr>\n",
       "  </tbody>\n",
       "</table>\n",
       "</div>"
      ],
      "text/plain": [
       "     Clothing ID                                        Review Text  Rating  \\\n",
       "23          1077  Cute little dress fits tts. it is a little hig...       3   \n",
       "52          1104  Love the color and style, but material snags e...       3   \n",
       "311         1089  Looks beautiful online but has too much materi...       3   \n",
       "383         1104  This dress is not what i expected. the bottom ...       3   \n",
       "417         1083  I love byron lars dresses, and this design is ...       2   \n",
       "\n",
       "    Class Name               Rate Rate_Prediction  \n",
       "23     Dresses  Negative/ neutral        Positive  \n",
       "52     Dresses  Negative/ neutral        Positive  \n",
       "311    Dresses  Negative/ neutral        Positive  \n",
       "383    Dresses  Negative/ neutral        Positive  \n",
       "417    Dresses  Negative/ neutral        Positive  "
      ]
     },
     "execution_count": 74,
     "metadata": {},
     "output_type": "execute_result"
    }
   ],
   "source": [
    "df_dresses[\"Rate_Prediction\"] = nb.predict(X)\n",
    "df_dresses = df_dresses[df_dresses[\"Rate\"] != df_dresses[\"Rate_Prediction\"]]\n",
    "df_dresses.head()"
   ]
  },
  {
   "cell_type": "markdown",
   "metadata": {},
   "source": [
    "Now we can check out 3 cases where the model is off. "
   ]
  },
  {
   "cell_type": "code",
   "execution_count": 77,
   "metadata": {},
   "outputs": [
    {
     "name": "stdout",
     "output_type": "stream",
     "text": [
      "Item number: 1\n",
      "\n",
      "Review text:\n",
      "Cute little dress fits tts. it is a little high waisted. good length for my 5'9 height. i like the dress, i'm just not in love with it. i dont think it looks or feels cheap. it appears just as pictured.\n",
      "\n",
      "Review score:\n",
      "3\n",
      "\n",
      "Rating Category:\n",
      "Negative/ neutral\n",
      "\n",
      "Predicted Category:\n",
      "Positive\n",
      "\n",
      "\n",
      "Item number: 2\n",
      "\n",
      "Review text:\n",
      "Love the color and style, but material snags easily\n",
      "\n",
      "Review score:\n",
      "3\n",
      "\n",
      "Rating Category:\n",
      "Negative/ neutral\n",
      "\n",
      "Predicted Category:\n",
      "Positive\n",
      "\n",
      "\n",
      "Item number: 3\n",
      "\n",
      "Review text:\n",
      "Looks beautiful online but has too much material and the zipper catches on the lace. also runs very large, i am normally a small but would need and xs in this dress\n",
      "\n",
      "Review score:\n",
      "3\n",
      "\n",
      "Rating Category:\n",
      "Negative/ neutral\n",
      "\n",
      "Predicted Category:\n",
      "Positive\n",
      "\n",
      "\n"
     ]
    }
   ],
   "source": [
    "for i in range(0,3):\n",
    "    print(f'Item number: {i+1}\\n')\n",
    "    print(f'Review text:\\n{df_dresses.iloc[i,1]}\\n')\n",
    "    print(f'Review score:\\n{df_dresses.iloc[i,2]}\\n')\n",
    "    print(f'Rating Category:\\n{df_dresses.iloc[i,4]}\\n')\n",
    "    print(f'Predicted Category:\\n{df_dresses.iloc[i,5]}\\n\\n')"
   ]
  },
  {
   "cell_type": "code",
   "execution_count": null,
   "metadata": {},
   "outputs": [],
   "source": []
  }
 ],
 "metadata": {
  "kernelspec": {
   "display_name": "Python 3",
   "language": "python",
   "name": "python3"
  },
  "language_info": {
   "codemirror_mode": {
    "name": "ipython",
    "version": 3
   },
   "file_extension": ".py",
   "mimetype": "text/x-python",
   "name": "python",
   "nbconvert_exporter": "python",
   "pygments_lexer": "ipython3",
   "version": "3.8.3"
  }
 },
 "nbformat": 4,
 "nbformat_minor": 4
}
